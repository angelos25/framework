{
 "cells": [
  {
   "cell_type": "code",
   "execution_count": 1,
   "metadata": {},
   "outputs": [],
   "source": [
    "a = [\n",
    "0.08752989768981934,\n",
    "0.059952121000000025,\n",
    "0.029121875762939453,\n",
    "0.020130138000000075,\n",
    "0.016387224197387695,\n",
    "0.01173080500000001,\n",
    "0.016618728637695312,\n",
    "0.012165935999999933,\n",
    "0.016315221786499023,\n",
    "0.011603468999999977,\n",
    "0.017078399658203125,\n",
    "0.011965702999999994,\n",
    "0.016681194305419922,\n",
    "0.011997191000000074,\n",
    "0.01649641990661621,\n",
    "0.011912848000000142,\n",
    "0.016409873962402344,\n",
    "0.01172708999999994,\n",
    "0.016147613525390625,\n",
    "0.011678872000000062]"
   ]
  },
  {
   "cell_type": "code",
   "execution_count": 2,
   "metadata": {},
   "outputs": [],
   "source": [
    "w = []\n",
    "cpu = []\n",
    "for i in range(9):\n",
    "    w.append(a[2*i])\n",
    "    cpu.append(a[2*i+1])"
   ]
  },
  {
   "cell_type": "code",
   "execution_count": 5,
   "metadata": {},
   "outputs": [
    {
     "data": {
      "text/plain": [
       "0.02584875954522027"
      ]
     },
     "execution_count": 5,
     "metadata": {},
     "output_type": "execute_result"
    }
   ],
   "source": [
    "import numpy as np\n",
    "np.mean(w)"
   ]
  },
  {
   "cell_type": "code",
   "execution_count": 6,
   "metadata": {},
   "outputs": [
    {
     "data": {
      "text/plain": [
       "0.01813170011111113"
      ]
     },
     "execution_count": 6,
     "metadata": {},
     "output_type": "execute_result"
    }
   ],
   "source": [
    "np.mean(cpu)"
   ]
  },
  {
   "cell_type": "code",
   "execution_count": 21,
   "metadata": {},
   "outputs": [
    {
     "name": "stdout",
     "output_type": "stream",
     "text": [
      "0 9.884581625724598\n",
      "1 19.73008126988295\n",
      "2 39.30445209699943\n",
      "3 77.99096821214073\n",
      "4 153.5488999752146\n",
      "5 297.6668940769898\n",
      "6 559.8915562222029\n",
      "7 994.3916905528376\n",
      "8 1593.257447409463\n",
      "9 2171.127177328639\n",
      "10 2456.7370666032684\n",
      "11 2499.2513274375638\n",
      "12 2499.9997757957576\n",
      "13 2499.99999999998\n",
      "14 2500.0\n",
      "15 2500.0\n",
      "16 2500.0\n",
      "17 2500.0\n",
      "18 2500.0\n",
      "19 2500.0\n",
      "20 2500.0\n",
      "21 2500.0\n",
      "22 2500.0\n",
      "23 2500.0\n",
      "24 2500.0\n",
      "25 2500.0\n",
      "26 2500.0\n",
      "27 2500.0\n",
      "28 2500.0\n",
      "29 2500.0\n"
     ]
    }
   ],
   "source": [
    "import numpy as np\n",
    "a = 0.0004\n",
    "y = 3*np.exp(0.5-a)+0.003\n",
    "for i in range(30):\n",
    "    y = 2*y - a*y*y\n",
    "    print(i, y)"
   ]
  },
  {
   "cell_type": "code",
   "execution_count": 16,
   "metadata": {},
   "outputs": [
    {
     "name": "stdout",
     "output_type": "stream",
     "text": [
      "0 4.036736428807846\n",
      "1 5.844609945792886\n",
      "2 8.128038914440669\n",
      "3 10.473725489214347\n",
      "4 12.033927646808959\n",
      "5 12.47425716127606\n",
      "6 12.499920531341308\n",
      "7 12.499999999242169\n",
      "8 12.500000000000002\n",
      "9 12.499999999999998\n",
      "10 12.500000000000002\n",
      "11 12.499999999999998\n",
      "12 12.500000000000002\n",
      "13 12.499999999999998\n",
      "14 12.500000000000002\n",
      "15 12.499999999999998\n",
      "16 12.500000000000002\n",
      "17 12.499999999999998\n",
      "18 12.500000000000002\n",
      "19 12.499999999999998\n"
     ]
    }
   ],
   "source": [
    "x = 0.08**2\n",
    "y = np.exp(-0.7*x-0.6)\n",
    "y = 5*y+0.003\n",
    "for i in range(20):\n",
    "    y = 0.5*y*(-x*y*y+3)\n",
    "    print(i, y)"
   ]
  },
  {
   "cell_type": "code",
   "execution_count": 22,
   "metadata": {},
   "outputs": [
    {
     "data": {
      "text/plain": [
       "50.0"
      ]
     },
     "execution_count": 22,
     "metadata": {},
     "output_type": "execute_result"
    }
   ],
   "source": []
  },
  {
   "cell_type": "code",
   "execution_count": null,
   "metadata": {},
   "outputs": [],
   "source": []
  }
 ],
 "metadata": {
  "kernelspec": {
   "display_name": "Python 3",
   "language": "python",
   "name": "python3"
  },
  "language_info": {
   "codemirror_mode": {
    "name": "ipython",
    "version": 3
   },
   "file_extension": ".py",
   "mimetype": "text/x-python",
   "name": "python",
   "nbconvert_exporter": "python",
   "pygments_lexer": "ipython3",
   "version": "3.8.5"
  }
 },
 "nbformat": 4,
 "nbformat_minor": 4
}
