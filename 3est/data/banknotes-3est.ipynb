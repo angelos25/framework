{
 "cells": [
  {
   "cell_type": "code",
   "execution_count": 1,
   "metadata": {},
   "outputs": [],
   "source": [
    "import pandas as pd\n",
    "import numpy as np\n",
    "import pickle\n",
    "from sklearn.linear_model import LogisticRegression\n",
    "np.set_printoptions(suppress=True)"
   ]
  },
  {
   "cell_type": "code",
   "execution_count": 2,
   "metadata": {},
   "outputs": [
    {
     "data": {
      "text/plain": [
       "(1372, 5)"
      ]
     },
     "execution_count": 2,
     "metadata": {},
     "output_type": "execute_result"
    }
   ],
   "source": [
    "a = pickle.load(open('banknotes.data', 'rb'))\n",
    "a.shape"
   ]
  },
  {
   "cell_type": "code",
   "execution_count": 3,
   "metadata": {},
   "outputs": [],
   "source": [
    "p1 = a[:600,:]\n",
    "p2 = a[600:900,:]\n",
    "p3 = a[900:1000,:]\n",
    "p4 = a[1000:1100,:]\n",
    "p5 = a[1100:1150,:]\n",
    "p6 = a[1150:1200,:]\n",
    "test_data = a[1200:1300,:]"
   ]
  },
  {
   "cell_type": "code",
   "execution_count": 4,
   "metadata": {},
   "outputs": [],
   "source": [
    "p1 = p1 - np.min(p1,0)\n",
    "p1 = p1 / (np.max(p1,0)-np.min(p1,0)) \n",
    "p2 = p2 - np.min(p2,0)\n",
    "p2 = p2 / (np.max(p2,0)-np.min(p2,0)) \n",
    "p3 = p3 - np.min(p3,0)\n",
    "p3 = p3 / (np.max(p3,0)-np.min(p3,0)) \n",
    "p4 = p4 - np.min(p4,0)\n",
    "p4 = p4 / (np.max(p4,0)-np.min(p4,0)) \n",
    "p5 = p5 - np.min(p5,0)\n",
    "p5 = p5 / (np.max(p5,0)-np.min(p5,0)) \n",
    "p6 = p6 - np.min(p6,0)\n",
    "p6 = p6 / (np.max(p6,0)-np.min(p6,0)) \n",
    "test_data = test_data - np.min(test_data,0)\n",
    "test_data = test_data / (np.max(test_data,0)-np.min(test_data,0))"
   ]
  },
  {
   "cell_type": "code",
   "execution_count": 5,
   "metadata": {},
   "outputs": [
    {
     "name": "stdout",
     "output_type": "stream",
     "text": [
      "[[0.02 0.04 0.19 0.13 0.22 0.22]]\n",
      "0.17\n",
      "[[0.   0.1  0.85 0.55 1.   1.  ]]\n"
     ]
    }
   ],
   "source": [
    "def test(train_data, test_data):\n",
    "    train_features = train_data[:,:-1]\n",
    "    train_labels = train_data[:,-1]\n",
    "    test_features = test_data[:,:-1]\n",
    "    test_labels = test_data[:,-1]\n",
    "    \n",
    "    clf = LogisticRegression()\n",
    "    clf.fit(train_features, train_labels)\n",
    "    predictions = clf.predict(test_features)\n",
    "    \n",
    "    acc = np.mean(np.abs(predictions-test_labels))\n",
    "    \n",
    "    return predictions,acc\n",
    "v = np.array([test(p,test_data)[0] for p in [p1,p2,p3,p4,p5,p6]])\n",
    "v = 2*(v-0.5)\n",
    "acc = np.array([[test(p,test_data)[1] for p in [p1,p2,p3,p4,p5,p6]]])\n",
    "print(acc)\n",
    "regular_vote = np.mean(np.abs(((np.sum(v,0)>0)-test_data[:,-1])))\n",
    "print(regular_vote)\n",
    "trust = (acc-np.min(acc))/(np.max(acc)-np.min(acc))\n",
    "print(trust)"
   ]
  },
  {
   "cell_type": "code",
   "execution_count": 6,
   "metadata": {},
   "outputs": [
    {
     "name": "stdout",
     "output_type": "stream",
     "text": [
      "0.2\n",
      "0.17\n",
      "0.17\n",
      "0.17\n",
      "0.17\n",
      "0.17\n",
      "0.17\n",
      "0.17\n",
      "0.17\n",
      "0.17\n",
      "[[0.08460078 0.08787383 0.09476862 0.09487556 0.09009944 0.09104394]]\n",
      "[[1.         0.68144803 0.01040862 0.         0.46483915 0.37291507]]\n"
     ]
    }
   ],
   "source": [
    "def Cosine(v,iterations,test_data):\n",
    "    nv,nq = v.shape\n",
    "    v2 = v*v/2\n",
    "    v_2 = v/2\n",
    "    ev = (np.sum(v2 + v_2, 1) + np.sum(v2 - v_2, 1))/(np.sum(2*v2-1,1)+nq)\n",
    "    ev.shape = (nv, 1)\n",
    "    wf = np.ones(test_data[:,-1].shape)\n",
    "    F = v*wf\n",
    "    eta = 0.1\n",
    "    \n",
    "    for it in range(iterations):\n",
    "        posF = np.sum(F*(v2+v_2), 1)\n",
    "        negF = np.sum(F*(v2-v_2), 1)\n",
    "        zeros = (np.sum(2*v2-1, 1)+nq)\n",
    "        F_ = (F*2*v2)**2\n",
    "        F2 = np.sum(F_, 1)\n",
    "        norm = zeros*F2\n",
    "        norm = np.sqrt(norm)\n",
    "        posF.shape, negF.shape, norm.shape = ev.shape, ev.shape, ev.shape\n",
    "\n",
    "        old_ev = ev*(1-eta)\n",
    "        new_ev = (posF + negF)*eta\n",
    "        ev = old_ev + new_ev\n",
    "\n",
    "        ev = ev / norm\n",
    "        V = v*ev\n",
    "\n",
    "        Vt = V.transpose()\n",
    "        v2t = v2.transpose()\n",
    "        v_2t = v_2.transpose()\n",
    "\n",
    "        posV = np.sum((Vt * (v2t + v_2t))**3, 1)\n",
    "        negV = np.sum((Vt * (v2t - v_2t))**3, 1)\n",
    "        norm = posV - negV\n",
    "        posV.shape, negV.shape, norm.shape = wf.shape, wf.shape, wf.shape\n",
    "        wf = posV + negV\n",
    "        wf = wf / norm\n",
    "        F = v*wf\n",
    "        print(np.mean(np.abs((wf>0)-test_data[:,-1])))\n",
    "    return wf, ev\n",
    "\n",
    "pred = Cosine(v,10,test_data)\n",
    "trust = pred[1].transpose()\n",
    "print(trust)\n",
    "print(1-(trust-np.min(trust))/(np.max(trust)-np.min(trust)))"
   ]
  },
  {
   "cell_type": "code",
   "execution_count": 7,
   "metadata": {},
   "outputs": [
    {
     "name": "stdout",
     "output_type": "stream",
     "text": [
      "0.17\n",
      "0.17\n",
      "0.12\n",
      "0.14\n",
      "0.14\n",
      "0.06\n",
      "0.06\n",
      "0.06\n",
      "0.06\n",
      "0.06\n",
      "[0.09990189 0.09989981 0.09990006 0.09989994 0.09990361 0.0999021 ]\n",
      "[0.54793549 0.         0.06580534 0.03489616 1.         0.60256276]\n"
     ]
    }
   ],
   "source": [
    "def est3(v,iterations,test_data):\n",
    "    nq, nv = v.shape\n",
    "    \n",
    "    trust = 0.1*np.ones(nv) #voters trustworthiness\n",
    "    diff = 0.1*np.ones(nq) #queries difficulty\n",
    "    y = np.ones(nq)\n",
    "\n",
    "    for it in range(iterations):\n",
    "        \n",
    "        for i in range(nq):\n",
    "            n = np.sum(v[i]!=0)\n",
    "            pos = np.sum((v[i]==1)*(1-trust*diff[i]))\n",
    "            neg = np.sum((v[i]==-1)*trust*diff[i])\n",
    "            y[i] = (pos+neg)/n\n",
    "        \n",
    "        for i in range(nq):\n",
    "            n = np.sum(v[i]!=0)\n",
    "            pos = np.sum((v[i]==1)*(1-y[i])/trust)\n",
    "            neg = np.sum((v[i]==-1)*y[i]/trust)\n",
    "            if n!=0:\n",
    "                diff[i] = (pos+neg)/n\n",
    "\n",
    "        for i in range(nv):\n",
    "            n = np.sum(v.transpose()[i]!=0)\n",
    "            pos = np.sum((v.transpose()[i]==1)*(1-y)/diff)\n",
    "            neg = np.sum((v.transpose()[i]==-1)*y/diff)\n",
    "            if n!=0:\n",
    "                trust[i] = (pos+neg)/n\n",
    "        print(np.mean(np.abs((np.array(y)>0.5)-test_data[:,-1])))\n",
    "    return np.array(y),np.array(trust),np.array(diff)\n",
    "\n",
    "pred = est3(v.transpose(),10, test_data)\n",
    "trust = pred[1]\n",
    "print(trust)\n",
    "print((trust-np.min(trust))/(np.max(trust)-np.min(trust)))"
   ]
  },
  {
   "cell_type": "code",
   "execution_count": 8,
   "metadata": {},
   "outputs": [],
   "source": [
    "def map_to_ring(x):\n",
    "    a = 2**20\n",
    "    a = a * x\n",
    "    a = np.rint(a)\n",
    "    a = a.astype(int)\n",
    "    a = a % 2**60\n",
    "    return a\n",
    "\n",
    "def secret_share(x, real=True, modulo=False):\n",
    "    if not modulo:\n",
    "        modulo = 2**60\n",
    "    if real:\n",
    "        x = map_to_ring(x)\n",
    "    shares_partner = np.random.randint(0, modulo, x.shape)\n",
    "    pickle.dump(shares_partner, open('banknotes.alice', 'wb'), protocol=pickle.HIGHEST_PROTOCOL)\n",
    "    shares_identity = (x - shares_partner).astype(int) % modulo\n",
    "    pickle.dump(shares_identity, open('banknotes.bob', 'wb'), protocol=pickle.HIGHEST_PROTOCOL)\n",
    "\n",
    "#secret_share(v)\n",
    "#pickle.dump(a, open('banknotes.data', 'wb'), protocol=pickle.HIGHEST_PROTOCOL)\n",
    "#pickle.dump(test_data[:,-1], open('banknotes.testtarget', 'wb'), protocol=pickle.HIGHEST_PROTOCOL)"
   ]
  },
  {
   "cell_type": "code",
   "execution_count": null,
   "metadata": {},
   "outputs": [],
   "source": []
  },
  {
   "cell_type": "code",
   "execution_count": null,
   "metadata": {},
   "outputs": [],
   "source": []
  }
 ],
 "metadata": {
  "kernelspec": {
   "display_name": "Python 3",
   "language": "python",
   "name": "python3"
  },
  "language_info": {
   "codemirror_mode": {
    "name": "ipython",
    "version": 3
   },
   "file_extension": ".py",
   "mimetype": "text/x-python",
   "name": "python",
   "nbconvert_exporter": "python",
   "pygments_lexer": "ipython3",
   "version": "3.8.5"
  }
 },
 "nbformat": 4,
 "nbformat_minor": 4
}
