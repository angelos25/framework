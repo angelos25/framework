{
 "cells": [
  {
   "cell_type": "code",
   "execution_count": 1,
   "metadata": {},
   "outputs": [],
   "source": [
    "import numpy as np\n",
    "from sklearn.linear_model import LogisticRegression\n",
    "\n",
    "def sig(x):\n",
    "    a = x<2\n",
    "    b = x<-2\n",
    "    return (1-b)*(a*(0.25*x+0.5)+(1-a))"
   ]
  },
  {
   "cell_type": "code",
   "execution_count": 2,
   "metadata": {},
   "outputs": [],
   "source": [
    "np.set_printoptions(suppress=True)\n",
    "nb_epoch = 10\n",
    "nb_users = 800\n",
    "batch_size = 16\n",
    "alpha = 0.001\n",
    "\n",
    "nh = 3\n",
    "nv = 10\n",
    "W = np.random.normal(0, 1, (nh, nv))*0.01\n",
    "a = np.zeros((1, nh))\n",
    "b = np.ones((1, nv))/2\n",
    "    "
   ]
  },
  {
   "cell_type": "code",
   "execution_count": 3,
   "metadata": {},
   "outputs": [],
   "source": [
    "data = np.genfromtxt('data.csv', delimiter=',')\n",
    "train, train_labels = data[:800,:10], data[:800,-1:]\n",
    "test, test_labels = data[800:,:10], data[800:,-1:]\n",
    "\n",
    "train_labels.shape = train_labels.shape[0]\n",
    "test_labels.shape = test_labels.shape[0]\n"
   ]
  },
  {
   "cell_type": "code",
   "execution_count": 4,
   "metadata": {},
   "outputs": [
    {
     "name": "stdout",
     "output_type": "stream",
     "text": [
      "epoch: 1 loss: 4200.920068103431\n",
      "104 / 200\n",
      "epoch: 2 loss: 4135.783620514574\n",
      "133 / 200\n",
      "epoch: 3 loss: 4124.828764742828\n",
      "169 / 200\n",
      "epoch: 4 loss: 4029.501960269566\n",
      "184 / 200\n",
      "epoch: 5 loss: 3929.1804413017326\n",
      "188 / 200\n",
      "epoch: 6 loss: 3996.661844555217\n",
      "194 / 200\n",
      "epoch: 7 loss: 3853.0672458949953\n",
      "198 / 200\n",
      "epoch: 8 loss: 3878.819524835344\n",
      "197 / 200\n",
      "epoch: 9 loss: 3846.366689043508\n",
      "197 / 200\n",
      "epoch: 10 loss: 3865.3699627941655\n",
      "197 / 200\n"
     ]
    }
   ],
   "source": [
    "for epoch in range(1, nb_epoch + 1):\n",
    "    train_loss = 0\n",
    "    for id_user in range(0, nb_users - batch_size, batch_size):\n",
    "        vk = train[id_user:id_user + batch_size]\n",
    "        v0 = train[id_user:id_user + batch_size]\n",
    "        ph0 = sig(np.matmul(v0, W.transpose())+a)\n",
    "        for k in range(3):\n",
    "            hk = sig(np.matmul(vk, W.transpose())+ a)\n",
    "            hk = hk > np.random.uniform(0,1,hk.shape)\n",
    "            vk = sig(np.matmul(hk, W) + b)\n",
    "            vk = vk > np.random.uniform(0,1,vk.shape)\n",
    "        phk = sig(np.matmul(vk, W.transpose())+ a)\n",
    "\n",
    "        dW = np.matmul(v0.transpose(), ph0) - np.matmul(vk.transpose(), phk)\n",
    "        dW.shape = W.shape\n",
    "        W += dW*alpha/batch_size\n",
    "        b += np.sum(v0 - vk, 0) * alpha/batch_size\n",
    "        a += np.sum(ph0 - phk, 0) * alpha/batch_size\n",
    "        \n",
    "        train_loss += np.sum((v0 - vk)**2)\n",
    "    print('epoch: ' + str(epoch) + ' loss: ' + str(train_loss))\n",
    "\n",
    "    train_features = sig(np.matmul(train, W.transpose())+a)\n",
    "    test_features = sig(np.matmul(test, W.transpose()) + a)\n",
    "\n",
    "    clf = LogisticRegression()\n",
    "    clf.fit(train_features, train_labels)\n",
    "    predictions = clf.predict(test_features)\n",
    "    print(np.sum(predictions == test_labels), '/', test_labels.shape[0])"
   ]
  },
  {
   "cell_type": "code",
   "execution_count": null,
   "metadata": {},
   "outputs": [],
   "source": []
  }
 ],
 "metadata": {
  "kernelspec": {
   "display_name": "Syft-P7",
   "language": "python",
   "name": "syft-p7"
  },
  "language_info": {
   "codemirror_mode": {
    "name": "ipython",
    "version": 3
   },
   "file_extension": ".py",
   "mimetype": "text/x-python",
   "name": "python",
   "nbconvert_exporter": "python",
   "pygments_lexer": "ipython3",
   "version": "3.7.9"
  }
 },
 "nbformat": 4,
 "nbformat_minor": 5
}
